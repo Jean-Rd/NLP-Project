{
 "cells": [
  {
   "cell_type": "code",
   "execution_count": 2,
   "metadata": {},
   "outputs": [],
   "source": [
    "import requests\n",
    "from bs4 import BeautifulSoup"
   ]
  },
  {
   "cell_type": "code",
   "execution_count": 4,
   "metadata": {},
   "outputs": [],
   "source": [
    "url_page = 'https://www.codificandobits.com/blog/'"
   ]
  },
  {
   "cell_type": "code",
   "execution_count": 33,
   "metadata": {},
   "outputs": [],
   "source": [
    "meta = requests.get(url_page, 'html.parser')"
   ]
  },
  {
   "cell_type": "code",
   "execution_count": 34,
   "metadata": {},
   "outputs": [],
   "source": [
    "sopa = BeautifulSoup(meta.text)"
   ]
  },
  {
   "cell_type": "code",
   "execution_count": 35,
   "metadata": {},
   "outputs": [],
   "source": [
    "anchors = sopa.find_all('a')"
   ]
  },
  {
   "cell_type": "code",
   "execution_count": 46,
   "metadata": {},
   "outputs": [],
   "source": [
    "div = sopa.find_all('div', attrs={'class':'bg-white mb3 pa4 gray overflow-hidden'})"
   ]
  },
  {
   "cell_type": "code",
   "execution_count": 87,
   "metadata": {},
   "outputs": [
    {
     "name": "stdout",
     "output_type": "stream",
     "text": [
      "/blog/docker-machine-learning/\n",
      "/blog/clasificacion-arboles-decision-algoritmo-cart/\n",
      "/blog/git-machine-learning/\n",
      "/blog/maquinas-de-soporte-vectorial/\n",
      "/blog/kaggle-3-formas-de-acelerar-el-aprendizaje-del-machine-learning/\n",
      "/blog/el-aprendizaje-reforzado-la-guia-definitiva/\n"
     ]
    }
   ],
   "source": [
    "for i in div:\n",
    "    print(i.find('a', attrs={'class':'link black dim'})['href'])"
   ]
  },
  {
   "cell_type": "code",
   "execution_count": 107,
   "metadata": {},
   "outputs": [],
   "source": [
    "bar = sopa.find_all('a', attrs={'class':'page-link'})"
   ]
  },
  {
   "cell_type": "code",
   "execution_count": 238,
   "metadata": {},
   "outputs": [
    {
     "name": "stdout",
     "output_type": "stream",
     "text": [
      "False\n"
     ]
    }
   ],
   "source": [
    "for i in bar:\n",
    "    req = 'aria-label=\"Next\"'\n",
    "    if req in str(i).split():\n",
    "        print((req in str(i).split()) == False)"
   ]
  },
  {
   "cell_type": "code",
   "execution_count": 203,
   "metadata": {},
   "outputs": [
    {
     "data": {
      "text/plain": [
       "'/blog/page/2/'"
      ]
     },
     "execution_count": 203,
     "metadata": {},
     "output_type": "execute_result"
    }
   ],
   "source": [
    "bar[6]['href']"
   ]
  },
  {
   "cell_type": "code",
   "execution_count": 255,
   "metadata": {},
   "outputs": [
    {
     "ename": "SyntaxError",
     "evalue": "invalid syntax (<ipython-input-255-1ec18f9ea370>, line 37)",
     "output_type": "error",
     "traceback": [
      "\u001b[1;36m  File \u001b[1;32m\"<ipython-input-255-1ec18f9ea370>\"\u001b[1;36m, line \u001b[1;32m37\u001b[0m\n\u001b[1;33m    _blog = requests.get(_link, 'html.parser')\u001b[0m\n\u001b[1;37m          ^\u001b[0m\n\u001b[1;31mSyntaxError\u001b[0m\u001b[1;31m:\u001b[0m invalid syntax\n"
     ]
    }
   ],
   "source": [
    "blog = 'https://www.codificandobits.com/blog/'\n",
    "\n",
    "class CodBits:\n",
    "    \n",
    "    def __init__(self, link_blog):\n",
    "        \n",
    "        self.link_blog = link_blog\n",
    "        \n",
    "    def next_page(self, anchor):\n",
    "        \n",
    "        plus = True\n",
    "        \n",
    "        for a in anchor:\n",
    "            \n",
    "            req = 'aria-label=\"Next\"'\n",
    "            \n",
    "            if req in str(a).split():\n",
    "                \n",
    "                url_next = self.link_blog + a['href'][6:]\n",
    "                plus = True\n",
    "                \n",
    "            elif req in str(a).split() == False:\n",
    "                \n",
    "                plus = False\n",
    "                return url_next, plus\n",
    "                \n",
    "        return url_next, plus\n",
    "    \n",
    "    def InPages(self):\n",
    "        \n",
    "        _link = self.link_blog\n",
    "        \n",
    "        urls = [_link]\n",
    "        \n",
    "        (\n",
    "            \n",
    "            _blog = requests.get(_link, 'html.parser')\n",
    "        \n",
    "            _soup = BeautifulSoup(_blog.text)\n",
    "            \n",
    "            anchors = _soup.find_all('a', attrs={'class':'page-link'})\n",
    "            \n",
    "            _link, con = self.next_page(anchor=anchors)\n",
    "            \n",
    "            urls.append(_link)\n",
    "            \n",
    "            \n",
    "        )while(con==True)\n",
    "        \n",
    "        return urls\n",
    "    \n",
    "    def get_UrlPages(self):\n",
    "        \n",
    "        return self.InPages()\n",
    "    \n",
    "    "
   ]
  },
  {
   "cell_type": "code",
   "execution_count": 240,
   "metadata": {},
   "outputs": [],
   "source": [
    "ac = CodBits(link_blog='https://www.codificandobits.com/blog/')"
   ]
  },
  {
   "cell_type": "code",
   "execution_count": 241,
   "metadata": {},
   "outputs": [
    {
     "data": {
      "text/plain": [
       "['https://www.codificandobits.com/blog/',\n",
       " 'https://www.codificandobits.com/blog/page/2/']"
      ]
     },
     "execution_count": 241,
     "metadata": {},
     "output_type": "execute_result"
    }
   ],
   "source": [
    "ac.get_UrlPages()"
   ]
  },
  {
   "cell_type": "code",
   "execution_count": 242,
   "metadata": {},
   "outputs": [],
   "source": [
    "prub = ['1','3', '5']"
   ]
  },
  {
   "cell_type": "code",
   "execution_count": 244,
   "metadata": {},
   "outputs": [
    {
     "data": {
      "text/plain": [
       "'5'"
      ]
     },
     "execution_count": 244,
     "metadata": {},
     "output_type": "execute_result"
    }
   ],
   "source": [
    "prub.pop()"
   ]
  },
  {
   "cell_type": "code",
   "execution_count": 245,
   "metadata": {},
   "outputs": [
    {
     "data": {
      "text/plain": [
       "['1', '3']"
      ]
     },
     "execution_count": 245,
     "metadata": {},
     "output_type": "execute_result"
    }
   ],
   "source": [
    "prub"
   ]
  },
  {
   "cell_type": "code",
   "execution_count": null,
   "metadata": {},
   "outputs": [],
   "source": []
  }
 ],
 "metadata": {
  "kernelspec": {
   "display_name": "Python 3",
   "language": "python",
   "name": "python3"
  },
  "language_info": {
   "codemirror_mode": {
    "name": "ipython",
    "version": 3
   },
   "file_extension": ".py",
   "mimetype": "text/x-python",
   "name": "python",
   "nbconvert_exporter": "python",
   "pygments_lexer": "ipython3",
   "version": "3.8.5"
  }
 },
 "nbformat": 4,
 "nbformat_minor": 4
}
