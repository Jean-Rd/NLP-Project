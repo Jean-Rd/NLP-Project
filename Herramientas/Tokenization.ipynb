{
 "cells": [
  {
   "cell_type": "code",
   "execution_count": 22,
   "metadata": {},
   "outputs": [],
   "source": [
    "import tensorflow as tf"
   ]
  },
  {
   "cell_type": "code",
   "execution_count": 61,
   "metadata": {},
   "outputs": [],
   "source": [
    "palabras = ['I love my cat', 'I love my dog', 'she have a home in the central park', 'we love my car']"
   ]
  },
  {
   "cell_type": "code",
   "execution_count": 62,
   "metadata": {},
   "outputs": [],
   "source": [
    "tokenizer = tf.keras.preprocessing.text.Tokenizer(num_words=100)"
   ]
  },
  {
   "cell_type": "code",
   "execution_count": 63,
   "metadata": {},
   "outputs": [],
   "source": [
    "# fit_on_sequences --> directamente para cadenas de texto\n",
    "tokenizer.fit_on_sequences(palabras[0])"
   ]
  },
  {
   "cell_type": "code",
   "execution_count": 64,
   "metadata": {},
   "outputs": [
    {
     "name": "stdout",
     "output_type": "stream",
     "text": [
      "{}\n"
     ]
    }
   ],
   "source": [
    "print(tokenizer.word_index)\n",
    "# ya aprendio ambos cat de text[0] ^ dog de text[1]"
   ]
  },
  {
   "cell_type": "code",
   "execution_count": 65,
   "metadata": {},
   "outputs": [
    {
     "name": "stdout",
     "output_type": "stream",
     "text": [
      "{'love': 1, 'my': 2, 'i': 3, 'cat': 4, 'dog': 5, 'she': 6, 'have': 7, 'a': 8, 'home': 9, 'in': 10, 'the': 11, 'central': 12, 'park': 13, 'we': 14, 'car': 15}\n"
     ]
    }
   ],
   "source": [
    "# fit_on_texts --> directamente en vectores\n",
    "tokenizer.fit_on_texts(palabras)\n",
    "print(tokenizer.word_index)\n",
    "# aprende de todo del vector input"
   ]
  },
  {
   "cell_type": "code",
   "execution_count": 81,
   "metadata": {},
   "outputs": [],
   "source": [
    "# Cremaos modelo Token\n",
    "token = tf.keras.preprocessing.text.Tokenizer(num_words=100)"
   ]
  },
  {
   "cell_type": "code",
   "execution_count": 82,
   "metadata": {},
   "outputs": [
    {
     "name": "stdout",
     "output_type": "stream",
     "text": [
      "{'love': 1, 'my': 2, 'i': 3, 'cat': 4, 'dog': 5, 'she': 6, 'have': 7, 'a': 8, 'home': 9, 'in': 10, 'the': 11, 'central': 12, 'park': 13, 'we': 14, 'car': 15}\n"
     ]
    }
   ],
   "source": [
    "# fit token con el vocab\n",
    "token.fit_on_texts(palabras)\n",
    "\n",
    "print(token.word_index)"
   ]
  },
  {
   "cell_type": "code",
   "execution_count": 84,
   "metadata": {},
   "outputs": [
    {
     "data": {
      "text/plain": [
       "[[2, 9]]"
      ]
     },
     "execution_count": 84,
     "metadata": {},
     "output_type": "execute_result"
    }
   ],
   "source": [
    "# new text; ignora palabras no vistas\n",
    "token.texts_to_sequences(['My home is grand'])"
   ]
  },
  {
   "cell_type": "code",
   "execution_count": 69,
   "metadata": {},
   "outputs": [
    {
     "name": "stdout",
     "output_type": "stream",
     "text": [
      "[[3, 1, 2, 4], [3, 1, 2, 5], [6, 7, 8, 9, 10, 11, 12, 13], [14, 1, 2, 15]]\n"
     ]
    }
   ],
   "source": [
    "# print tokem\n",
    "print(sequence)"
   ]
  },
  {
   "cell_type": "code",
   "execution_count": 86,
   "metadata": {},
   "outputs": [
    {
     "name": "stdout",
     "output_type": "stream",
     "text": [
      "{'<OOV>': 1, 'love': 2, 'my': 3, 'i': 4, 'cat': 5, 'dog': 6, 'she': 7, 'have': 8, 'a': 9, 'home': 10, 'in': 11, 'the': 12, 'central': 13, 'park': 14, 'we': 15, 'car': 16}\n"
     ]
    }
   ],
   "source": [
    "# Para evitar esto podemos agregar una hiperparametro oov donde para palabras nuncavistas este ponddra un 1(token)\n",
    "token = tf.keras.preprocessing.text.Tokenizer(num_words=100, oov_token='<OOV>')\n",
    "token.fit_on_texts(palabras)\n",
    "\n",
    "print(token.word_index)"
   ]
  },
  {
   "cell_type": "code",
   "execution_count": 87,
   "metadata": {},
   "outputs": [
    {
     "data": {
      "text/plain": [
       "[[4, 2, 3, 5], [4, 2, 3, 6], [7, 8, 9, 10, 11, 12, 13, 14], [15, 2, 3, 16]]"
      ]
     },
     "execution_count": 87,
     "metadata": {},
     "output_type": "execute_result"
    }
   ],
   "source": [
    "token.texts_to_sequences(palabras)"
   ]
  },
  {
   "cell_type": "code",
   "execution_count": 88,
   "metadata": {},
   "outputs": [
    {
     "data": {
      "text/plain": [
       "[[3, 10, 1, 1, 1, 1]]"
      ]
     },
     "execution_count": 88,
     "metadata": {},
     "output_type": "execute_result"
    }
   ],
   "source": [
    "token.texts_to_sequences(['my home is grand mother fucjer'])"
   ]
  },
  {
   "cell_type": "code",
   "execution_count": 79,
   "metadata": {},
   "outputs": [],
   "source": [
    "padd = tf.keras.preprocessing.sequence.pad_sequences(sequence, padding='post', truncating='post')\n",
    "# realizamos padding para que todos los vectores tengas la misma long"
   ]
  },
  {
   "cell_type": "code",
   "execution_count": 89,
   "metadata": {},
   "outputs": [
    {
     "data": {
      "text/plain": [
       "'\\n    TAMBIEN PODEMOS PASARLOS SIN PADDING, ALERTANDO A KERAS DE ESTO RAGGEDTENSOR(VECTORES IRREGULARES)\\n    EN INPUT(RAGGED=TRUE\\\\)\\n'"
      ]
     },
     "execution_count": 89,
     "metadata": {},
     "output_type": "execute_result"
    }
   ],
   "source": [
    "'''\n",
    "    TAMBIEN PODEMOS PASARLOS SIN PADDING, ALERTANDO A KERAS DE ESTO RAGGEDTENSOR(VECTORES IRREGULARES)\n",
    "    EN INPUT(RAGGED=TRUE\\)\n",
    "'''"
   ]
  },
  {
   "cell_type": "code",
   "execution_count": 78,
   "metadata": {},
   "outputs": [
    {
     "data": {
      "text/plain": [
       "array([[ 3,  1,  2,  4,  0,  0,  0,  0],\n",
       "       [ 3,  1,  2,  5,  0,  0,  0,  0],\n",
       "       [ 6,  7,  8,  9, 10, 11, 12, 13],\n",
       "       [14,  1,  2, 15,  0,  0,  0,  0]])"
      ]
     },
     "execution_count": 78,
     "metadata": {},
     "output_type": "execute_result"
    }
   ],
   "source": [
    "padd"
   ]
  }
 ],
 "metadata": {
  "kernelspec": {
   "display_name": "Python 3",
   "language": "python",
   "name": "python3"
  },
  "language_info": {
   "codemirror_mode": {
    "name": "ipython",
    "version": 3
   },
   "file_extension": ".py",
   "mimetype": "text/x-python",
   "name": "python",
   "nbconvert_exporter": "python",
   "pygments_lexer": "ipython3",
   "version": "3.8.5"
  }
 },
 "nbformat": 4,
 "nbformat_minor": 4
}
